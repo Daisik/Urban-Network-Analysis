{
 "cells": [
  {
   "cell_type": "code",
   "execution_count": 13,
   "metadata": {
    "collapsed": true
   },
   "outputs": [],
   "source": [
    "import os\n",
    "import numpy as np\n",
    "from sys import getsizeof"
   ]
  },
  {
   "cell_type": "markdown",
   "metadata": {
    "collapsed": true
   },
   "source": [
    "# 2. Data Structures, Algorithms, and Computational Costs\n",
    "\n",
    "<h2> 2.1 Data Structures </h2>\n",
    "There are a variety of ways to store networks, with significant differences in storage requirements\n",
    "and information access rates. In general, the formats may be considered as link-oriented or nodeoriented.\n",
    "Link-oriented formats facilitate access to node information given a link index; nodeoriented\n",
    "formats facilitate access to link parameters given node indices. Four simple storage formats\n",
    "are presented: (1) Node-link Incidence Matrix, (2) Adjacency Matrix, (3) Ladder Representation,\n",
    "and (4) Forward Star.\n"
   ]
  },
  {
   "cell_type": "markdown",
   "metadata": {},
   "source": [
    "<h2> 2.1.1 Node-Link Incidence Matrix </h2>\n",
    "The Node-Link Incidence Matrix comprises N rows that correspond to network nodes and M\n",
    "columns that represent network links. For a given link (i,j), the matrix is coded as:\n",
    "-1 if n = i (node n is the origin of link (i,j))\n",
    "Cell [node n, link(i,j)] = 1 if n = j (node n is the destination of link (i,j))\n",
    "0 otherwise\n",
    "Matrix Properties:\n",
    "1. Requires N by M storage locations (about 4N2 for traffic networks).\n",
    "2. 2M entries of N are nonzero\n",
    "3. Each column has exactly one +1 and one -1.\n",
    "\n",
    "The node-link incident matrix corresponds to the matrix of coefficients for the standard minimum\n",
    "cost network flow problem."
   ]
  },
  {
   "cell_type": "code",
   "execution_count": 18,
   "metadata": {
    "collapsed": false
   },
   "outputs": [
    {
     "name": "stdout",
     "output_type": "stream",
     "text": [
      "192\n",
      "80\n"
     ]
    }
   ],
   "source": [
    "NLIC_nodes = [[-1,0,1,0,0], \n",
    "              [1,-1,0,1,0],\n",
    "              [0,0,-1,-1,1],\n",
    "              [0,1,0,0,-1]]\n",
    "\n",
    "NLIC_nodes = np.array(NLIC_nodes)\n",
    "print getsizeof(NLIC_nodes)\n",
    "print NLIC_nodes.nbytes"
   ]
  },
  {
   "cell_type": "markdown",
   "metadata": {},
   "source": [
    "<h2> 2.1.2 Node-Node Adjacency Matrix A </h2>\n",
    "The Adjacency Matrix is an N by N matrix in which each of N rows and N columns corresponds to\n",
    "the A-node and B-node of a given link (i,j) in the network, coded as follows:\n",
    "Cell [i,j] = 1 if link (i,j) is in the network\n",
    "0 if link (i,j) is not in the network\n",
    "Matrix Properties:\n",
    "1. N2 elements, M of which are non-zero\n",
    "2. The (row, column) location of the cell, not the value contained, indicates that the link exists;\n",
    "thus, the matrix can be used to store costs and/or capacities [e.g., Cij, Lij, or Uij in cell(i,j)]\n"
   ]
  },
  {
   "cell_type": "code",
   "execution_count": 19,
   "metadata": {
    "collapsed": false
   },
   "outputs": [
    {
     "name": "stdout",
     "output_type": "stream",
     "text": [
      "176\n",
      "64\n"
     ]
    }
   ],
   "source": [
    "NNAM_nodes = [[0,1,0,0],\n",
    "              [0,0,0,1],\n",
    "              [1,1,0,0],\n",
    "              [0,0,1,0]\n",
    "             ]\n",
    "NNAM_nodes = np.array(NNAM_nodes)\n",
    "print getsizeof(NNAM_nodes)\n",
    "print NNAM_nodes.nbytes\n"
   ]
  },
  {
   "cell_type": "markdown",
   "metadata": {},
   "source": [
    "<h2> 2.1.3 Ladder Representation </h2>\n",
    "A network can be represented as a listing of links, typically following the ladder format:\n",
    "index A-Node B-Node [ tij Uij etc.]\n",
    "where:\n",
    "index = pointer for link number\n",
    "A-node= starting node of the link\n",
    "B-node= ending node of the link\n",
    "Any link characteristics can be included, including link cost tij, and link capacity, Uij. The network\n",
    "topography is stored in two M-vectors (A-node and B-node). For traffic applications, this may be\n",
    "approximated as 8N. For the sample network in Figure 2:"
   ]
  },
  {
   "cell_type": "code",
   "execution_count": 24,
   "metadata": {
    "collapsed": false
   },
   "outputs": [
    {
     "name": "stdout",
     "output_type": "stream",
     "text": [
      "272\n"
     ]
    }
   ],
   "source": [
    "Ladder_LINK = {}\n",
    "Ladder_LINK[1] = {\"A-Node\":1, \"B-node\":2}\n",
    "Ladder_LINK[2] = {\"A-Node\":2, \"B-node\":4}\n",
    "Ladder_LINK[3] = {\"A-Node\":3, \"B-node\":1}\n",
    "Ladder_LINK[4] = {\"A-Node\":3, \"B-node\":2}\n",
    "Ladder_LINK[5] = {\"A-Node\":4, \"B-node\":3}\n",
    "print getsizeof(Ladder_LINK)"
   ]
  },
  {
   "cell_type": "code",
   "execution_count": 23,
   "metadata": {
    "collapsed": false
   },
   "outputs": [
    {
     "name": "stdout",
     "output_type": "stream",
     "text": [
      "272\n"
     ]
    }
   ],
   "source": [
    "Ladder_LINK1 = {}\n",
    "Ladder_LINK[1] = [1,2]\n",
    "Ladder_LINK[2] = [2,4]\n",
    "Ladder_LINK[3] = [3,1]\n",
    "Ladder_LINK[4] = [3,2]\n",
    "Ladder_LINK[5] = [4,3]\n",
    "print getsizeof(Ladder_LINK1)"
   ]
  },
  {
   "cell_type": "markdown",
   "metadata": {},
   "source": [
    "<h2>2.1.4 Forward Star Representation</h2>\n",
    "\n",
    "A N-vector of link origin nodes serves as pointers to a M-vector of link terminal nodes, providing an\n",
    "efficient network storage requirement of N+M (about 5N for traffic network applications). Each link\n",
    "origin node is assigned a value in the first vector which serves as a pointer to the location in the\n",
    "second vector corresponding to the beginning of a group of links, each with the same origin node\n",
    "and ordered by their terminal node. Define A-node(i) as the list of link origin nodes and B-node(j)\n",
    "as the list of link terminal nodes, ordered in groups by origin node. For node i, find the pointers for\n",
    "A-node(i) and A-node(i+1) then find the terminal node locations in list B-node(⋅) at A-node(i) to Anode(i+1)-1.\n",
    "\n",
    "df;jsdafjsdflkjslkfjasdf\n",
    "\n",
    "sdlfkjsadljfalskdfjlksadjf\n",
    "lskdjflaksdjflksdjf\n"
   ]
  },
  {
   "cell_type": "code",
   "execution_count": 1,
   "metadata": {
    "collapsed": true
   },
   "outputs": [],
   "source": [
    "import sys\n"
   ]
  },
  {
   "cell_type": "code",
   "execution_count": null,
   "metadata": {
    "collapsed": true
   },
   "outputs": [],
   "source": []
  }
 ],
 "metadata": {
  "kernelspec": {
   "display_name": "Python 2",
   "language": "python",
   "name": "python2"
  },
  "language_info": {
   "codemirror_mode": {
    "name": "ipython",
    "version": 2
   },
   "file_extension": ".py",
   "mimetype": "text/x-python",
   "name": "python",
   "nbconvert_exporter": "python",
   "pygments_lexer": "ipython2",
   "version": "2.7.10"
  }
 },
 "nbformat": 4,
 "nbformat_minor": 0
}
